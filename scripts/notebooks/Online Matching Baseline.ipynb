{
 "cells": [
  {
   "cell_type": "code",
   "execution_count": 1,
   "metadata": {},
   "outputs": [],
   "source": [
    "%load_ext autoreload\n",
    "%autoreload 2"
   ]
  },
  {
   "cell_type": "code",
   "execution_count": 9,
   "metadata": {},
   "outputs": [],
   "source": [
    "import sys\n",
    "sys.path.append('/usr0/home/naveenr/projects/patient_provider')"
   ]
  },
  {
   "cell_type": "code",
   "execution_count": 10,
   "metadata": {},
   "outputs": [],
   "source": [
    "import numpy as np\n",
    "import random \n",
    "import matplotlib.pyplot as plt\n"
   ]
  },
  {
   "cell_type": "code",
   "execution_count": 11,
   "metadata": {},
   "outputs": [],
   "source": [
    "from patient.simulator import Simulator\n",
    "from patient.policy import *"
   ]
  },
  {
   "cell_type": "code",
   "execution_count": 12,
   "metadata": {},
   "outputs": [],
   "source": [
    "num_patients = 100\n",
    "num_providers = 20\n",
    "provider_capacity = 5"
   ]
  },
  {
   "cell_type": "code",
   "execution_count": 13,
   "metadata": {},
   "outputs": [],
   "source": [
    "s = Simulator(num_patients,num_providers,provider_capacity)"
   ]
  },
  {
   "cell_type": "code",
   "execution_count": 14,
   "metadata": {},
   "outputs": [],
   "source": [
    "seed_list = list(range(42,52))"
   ]
  },
  {
   "cell_type": "markdown",
   "metadata": {},
   "source": [
    "## No Re-Entry"
   ]
  },
  {
   "cell_type": "code",
   "execution_count": 16,
   "metadata": {},
   "outputs": [
    {
     "data": {
      "text/plain": [
       "(88.6, 0.6572205510468216, 0.62)"
      ]
     },
     "execution_count": 16,
     "metadata": {},
     "output_type": "execute_result"
    }
   ],
   "source": [
    "results = s.simulate_no_renetry(random_policy,seed_list=seed_list)\n",
    "np.mean(results['matches']), np.mean(results['patient_utilities']), np.mean(results['provider_gaps'])"
   ]
  },
  {
   "cell_type": "code",
   "execution_count": 17,
   "metadata": {},
   "outputs": [
    {
     "data": {
      "text/plain": [
       "(93.7, 0.6614654205118488, 0.5599999999999999)"
      ]
     },
     "execution_count": 17,
     "metadata": {},
     "output_type": "execute_result"
    }
   ],
   "source": [
    "results = s.simulate_no_renetry(max_match_prob,seed_list=seed_list)\n",
    "np.mean(results['matches']), np.mean(results['patient_utilities']), np.mean(results['provider_gaps'])"
   ]
  },
  {
   "cell_type": "code",
   "execution_count": 18,
   "metadata": {},
   "outputs": [
    {
     "data": {
      "text/plain": [
       "(87.9, 0.8320686003295454, 0.38)"
      ]
     },
     "execution_count": 18,
     "metadata": {},
     "output_type": "execute_result"
    }
   ],
   "source": [
    "results = s.simulate_no_renetry(max_patient_utility,seed_list=seed_list)\n",
    "np.mean(results['matches']), np.mean(results['patient_utilities']), np.mean(results['provider_gaps'])"
   ]
  },
  {
   "cell_type": "markdown",
   "metadata": {},
   "source": [
    "## Re-Entry"
   ]
  },
  {
   "cell_type": "code",
   "execution_count": 19,
   "metadata": {},
   "outputs": [
    {
     "data": {
      "text/plain": [
       "(87.5, 0.129, 0.6297917447765877, 0.6599999999999999)"
      ]
     },
     "execution_count": 19,
     "metadata": {},
     "output_type": "execute_result"
    }
   ],
   "source": [
    "results = s.simulate_with_renetry(random_policy,seed_list=seed_list)\n",
    "np.mean(results['matches']), np.mean(results['waittimes']), np.mean(results['patient_utilities']), np.mean(results['provider_gaps'])"
   ]
  },
  {
   "cell_type": "code",
   "execution_count": 20,
   "metadata": {},
   "outputs": [
    {
     "data": {
      "text/plain": [
       "(92.4, 0.065, 0.626983908582326, 0.6399999999999999)"
      ]
     },
     "execution_count": 20,
     "metadata": {},
     "output_type": "execute_result"
    }
   ],
   "source": [
    "results = s.simulate_with_renetry(max_match_prob,seed_list=seed_list)\n",
    "np.mean(results['matches']), np.mean(results['waittimes']), np.mean(results['patient_utilities']), np.mean(results['provider_gaps'])"
   ]
  },
  {
   "cell_type": "code",
   "execution_count": 21,
   "metadata": {},
   "outputs": [
    {
     "data": {
      "text/plain": [
       "(86.1, 0.171, 0.8200424180750419, 0.4)"
      ]
     },
     "execution_count": 21,
     "metadata": {},
     "output_type": "execute_result"
    }
   ],
   "source": [
    "results = s.simulate_with_renetry(max_patient_utility,seed_list=seed_list)\n",
    "np.mean(results['matches']), np.mean(results['waittimes']), np.mean(results['patient_utilities']), np.mean(results['provider_gaps']) "
   ]
  },
  {
   "cell_type": "code",
   "execution_count": 25,
   "metadata": {},
   "outputs": [
    {
     "name": "stdout",
     "output_type": "stream",
     "text": [
      "Lamb 0 Matches 86.1 Waittimes 0.171 Patient Utility 0.8200424180750419 Provider Gap 0.4\n",
      "Lamb 0.5 Matches 89.8 Waittimes 0.141 Patient Utility 0.8069190379829927 Provider Gap 0.52\n",
      "Lamb 1 Matches 91.1 Waittimes 0.131 Patient Utility 0.7806448948266995 Provider Gap 0.38\n",
      "Lamb 5 Matches 92.9 Waittimes 0.091 Patient Utility 0.6903428397119835 Provider Gap 0.4800000000000001\n",
      "Lamb 10 Matches 92.3 Waittimes 0.087 Patient Utility 0.6733211388721351 Provider Gap 0.5599999999999999\n"
     ]
    }
   ],
   "source": [
    "for lamb in [0,0.5,1,5,10]:\n",
    "    results = s.simulate_with_renetry(max_patient_utility_with_waittime_alpha_lambda(0,lamb),seed_list=seed_list)\n",
    "    print(\"Lamb {} Matches {} Waittimes {} Patient Utility {} Provider Gap {}\".format(lamb,np.mean(results['matches']), np.mean(results['waittimes']),np.mean(results['patient_utilities']), np.mean(results['provider_gaps'])))"
   ]
  },
  {
   "cell_type": "code",
   "execution_count": 26,
   "metadata": {},
   "outputs": [
    {
     "name": "stdout",
     "output_type": "stream",
     "text": [
      "Lamb 0 Matches 86.1 Waittimes 0.171 Patient Utility 0.8200424180750419 Provider Gap 0.4\n",
      "Lamb 0.5 Matches 83.3 Waittimes 0.216 Patient Utility 0.807029545471653 Provider Gap 0.27999999999999997\n",
      "Lamb 1 Matches 82.2 Waittimes 0.224 Patient Utility 0.7961063370177937 Provider Gap 0.31999999999999995\n",
      "Lamb 5 Matches 20.0 Waittimes 2.301 Patient Utility 0.5865150409767305 Provider Gap 0.0\n",
      "Lamb 10 Matches 0.0 Waittimes 3.103 Patient Utility 0.5281667902942796 Provider Gap 0.0\n"
     ]
    }
   ],
   "source": [
    "for alpha in [0,0.5,1,5,10]:\n",
    "    results = s.simulate_with_renetry(max_patient_utility_with_waittime_alpha_lambda(alpha,0),seed_list=seed_list)\n",
    "    print(\"Lamb {} Matches {} Waittimes {} Patient Utility {} Provider Gap {}\".format(alpha,np.mean(results['matches']), np.mean(results['waittimes']),np.mean(results['patient_utilities']), np.mean(results['provider_gaps'])))"
   ]
  },
  {
   "cell_type": "code",
   "execution_count": 27,
   "metadata": {},
   "outputs": [
    {
     "name": "stdout",
     "output_type": "stream",
     "text": [
      "Lamb 10 Matches 91.7 Waittimes 0.127 Patient Utility 0.6740481679358278 Provider Gap 0.2799999999999999\n"
     ]
    }
   ],
   "source": [
    "results = s.simulate_with_renetry(max_patient_utility_with_waittime_alpha_lambda(10,10),seed_list=seed_list)\n",
    "print(\"Lamb {} Matches {} Waittimes {} Patient Utility {} Provider Gap {}\".format(alpha,np.mean(results['matches']), np.mean(results['waittimes']),np.mean(results['patient_utilities']), np.mean(results['provider_gaps'])))"
   ]
  }
 ],
 "metadata": {
  "kernelspec": {
   "display_name": "patient",
   "language": "python",
   "name": "python3"
  },
  "language_info": {
   "codemirror_mode": {
    "name": "ipython",
    "version": 3
   },
   "file_extension": ".py",
   "mimetype": "text/x-python",
   "name": "python",
   "nbconvert_exporter": "python",
   "pygments_lexer": "ipython3",
   "version": "3.7.16"
  }
 },
 "nbformat": 4,
 "nbformat_minor": 2
}
