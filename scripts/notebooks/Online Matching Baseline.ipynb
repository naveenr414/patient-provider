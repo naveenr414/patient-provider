{
 "cells": [
  {
   "cell_type": "code",
   "execution_count": 19,
   "metadata": {},
   "outputs": [
    {
     "name": "stdout",
     "output_type": "stream",
     "text": [
      "The autoreload extension is already loaded. To reload it, use:\n",
      "  %reload_ext autoreload\n"
     ]
    }
   ],
   "source": [
    "%load_ext autoreload\n",
    "%autoreload 2"
   ]
  },
  {
   "cell_type": "code",
   "execution_count": 20,
   "metadata": {},
   "outputs": [],
   "source": [
    "import sys\n",
    "sys.path.append('/usr0/home/naveenr/projects/patient_provider')"
   ]
  },
  {
   "cell_type": "code",
   "execution_count": 21,
   "metadata": {},
   "outputs": [],
   "source": [
    "import numpy as np\n",
    "import random \n",
    "import matplotlib.pyplot as plt\n"
   ]
  },
  {
   "cell_type": "code",
   "execution_count": 22,
   "metadata": {},
   "outputs": [],
   "source": [
    "from patient.simulator import Simulator\n",
    "from patient.policy import *"
   ]
  },
  {
   "cell_type": "code",
   "execution_count": 60,
   "metadata": {},
   "outputs": [],
   "source": [
    "num_patients = 10\n",
    "num_providers = 20"
   ]
  },
  {
   "cell_type": "code",
   "execution_count": 61,
   "metadata": {},
   "outputs": [],
   "source": [
    "s = Simulator(num_patients,num_providers)"
   ]
  },
  {
   "cell_type": "code",
   "execution_count": 62,
   "metadata": {},
   "outputs": [],
   "source": [
    "seed_list = list(range(42,52))"
   ]
  },
  {
   "cell_type": "code",
   "execution_count": 92,
   "metadata": {},
   "outputs": [
    {
     "data": {
      "text/plain": [
       "(9.3, 0.6403124237432849, 0.6734718607316517, 0.23049860901313035)"
      ]
     },
     "execution_count": 92,
     "metadata": {},
     "output_type": "execute_result"
    }
   ],
   "source": [
    "results = s.simulate_no_renetry(random_policy,seed_list=seed_list)\n",
    "np.mean(results['matches']), np.std(results['matches']), np.mean(results['patient_utilities']), np.std(results['patient_utilities'])"
   ]
  },
  {
   "cell_type": "code",
   "execution_count": 93,
   "metadata": {},
   "outputs": [
    {
     "data": {
      "text/plain": [
       "(9.6, 0.4898979485566356, 0.6735601809426415, 0.23595543913404418)"
      ]
     },
     "execution_count": 93,
     "metadata": {},
     "output_type": "execute_result"
    }
   ],
   "source": [
    "results = s.simulate_no_renetry(greedy_policy,seed_list=seed_list)\n",
    "np.mean(results['matches']), np.std(results['matches']), np.mean(results['patient_utilities']), np.std(results['patient_utilities'])"
   ]
  },
  {
   "cell_type": "code",
   "execution_count": 94,
   "metadata": {},
   "outputs": [
    {
     "data": {
      "text/plain": [
       "(9.2, 0.6, 0.8721437086614838, 0.10784385022127156)"
      ]
     },
     "execution_count": 94,
     "metadata": {},
     "output_type": "execute_result"
    }
   ],
   "source": [
    "results = s.simulate_no_renetry(max_patient_utility,seed_list=seed_list)\n",
    "np.mean(results['matches']), np.std(results['matches']), np.mean(results['patient_utilities']), np.std(results['patient_utilities'])"
   ]
  },
  {
   "cell_type": "code",
   "execution_count": 95,
   "metadata": {},
   "outputs": [
    {
     "data": {
      "text/plain": [
       "(9.6, 0.4898979485566356, 0.6735601809426415, 0.23595543913404418)"
      ]
     },
     "execution_count": 95,
     "metadata": {},
     "output_type": "execute_result"
    }
   ],
   "source": [
    "results = s.simulate_no_renetry(max_match_prob,seed_list=seed_list)\n",
    "np.mean(results['matches']), np.std(results['matches']), np.mean(results['patient_utilities']), np.std(results['patient_utilities'])\n"
   ]
  },
  {
   "cell_type": "code",
   "execution_count": 100,
   "metadata": {},
   "outputs": [
    {
     "data": {
      "text/plain": [
       "(9.1,\n",
       " 0.8306623862918076,\n",
       " 0.07,\n",
       " 0.25514701644346144,\n",
       " 0.5983942888722134,\n",
       " 0.2322729078253014)"
      ]
     },
     "execution_count": 100,
     "metadata": {},
     "output_type": "execute_result"
    }
   ],
   "source": [
    "results = s.simulate_with_renetry(random_policy,seed_list=seed_list)\n",
    "np.mean(results['matches']), np.std(results['matches']), np.mean(results['waittimes']), np.std(results['waittimes']), np.mean(results['patient_utilities']), np.std(results['patient_utilities'])"
   ]
  },
  {
   "cell_type": "code",
   "execution_count": 97,
   "metadata": {},
   "outputs": [
    {
     "data": {
      "text/plain": [
       "(9.5, 0.5, 0.06, 0.23748684174075832, 0.6007243262811839, 0.23104192523587672)"
      ]
     },
     "execution_count": 97,
     "metadata": {},
     "output_type": "execute_result"
    }
   ],
   "source": [
    "results = s.simulate_with_renetry(greedy_policy,seed_list=seed_list)\n",
    "np.mean(results['matches']), np.std(results['matches']), np.mean(results['waittimes']), np.std(results['waittimes']), np.mean(results['patient_utilities']), np.std(results['patient_utilities'])"
   ]
  },
  {
   "cell_type": "code",
   "execution_count": 98,
   "metadata": {},
   "outputs": [
    {
     "data": {
      "text/plain": [
       "(8.4, 1.2, 0.14, 0.42473521163190603, 0.8060576823409538, 0.19176543600432797)"
      ]
     },
     "execution_count": 98,
     "metadata": {},
     "output_type": "execute_result"
    }
   ],
   "source": [
    "results = s.simulate_with_renetry(max_patient_utility,seed_list=seed_list)\n",
    "np.mean(results['matches']), np.std(results['matches']), np.mean(results['waittimes']), np.std(results['waittimes']), np.mean(results['patient_utilities']), np.std(results['patient_utilities'])"
   ]
  },
  {
   "cell_type": "code",
   "execution_count": 99,
   "metadata": {},
   "outputs": [
    {
     "data": {
      "text/plain": [
       "(9.5, 0.5, 0.06, 0.23748684174075832, 0.6007243262811839, 0.23104192523587672)"
      ]
     },
     "execution_count": 99,
     "metadata": {},
     "output_type": "execute_result"
    }
   ],
   "source": [
    "results = s.simulate_with_renetry(max_match_prob,seed_list=seed_list)\n",
    "np.mean(results['matches']), np.std(results['matches']), np.mean(results['waittimes']), np.std(results['waittimes']), np.mean(results['patient_utilities']), np.std(results['patient_utilities'])\n"
   ]
  },
  {
   "cell_type": "code",
   "execution_count": null,
   "metadata": {},
   "outputs": [],
   "source": []
  }
 ],
 "metadata": {
  "kernelspec": {
   "display_name": "patient",
   "language": "python",
   "name": "python3"
  },
  "language_info": {
   "codemirror_mode": {
    "name": "ipython",
    "version": 3
   },
   "file_extension": ".py",
   "mimetype": "text/x-python",
   "name": "python",
   "nbconvert_exporter": "python",
   "pygments_lexer": "ipython3",
   "version": "3.7.16"
  }
 },
 "nbformat": 4,
 "nbformat_minor": 2
}
