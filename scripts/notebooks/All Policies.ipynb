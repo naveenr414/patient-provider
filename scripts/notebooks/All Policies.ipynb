{
 "cells": [
  {
   "cell_type": "code",
   "execution_count": 1,
   "metadata": {},
   "outputs": [],
   "source": [
    "%load_ext autoreload\n",
    "%autoreload 2"
   ]
  },
  {
   "cell_type": "code",
   "execution_count": 2,
   "metadata": {},
   "outputs": [],
   "source": [
    "import sys\n",
    "sys.path.append('/usr0/home/naveenr/projects/patient_provider')"
   ]
  },
  {
   "cell_type": "code",
   "execution_count": 3,
   "metadata": {},
   "outputs": [],
   "source": [
    "import numpy as np\n",
    "import random \n",
    "import matplotlib.pyplot as plt\n",
    "import argparse\n",
    "import secrets\n",
    "import json"
   ]
  },
  {
   "cell_type": "code",
   "execution_count": 4,
   "metadata": {},
   "outputs": [],
   "source": [
    "from patient.simulator import run_multi_seed\n",
    "from patient.baseline_policies import random_policy, greedy_policy\n",
    "from patient.online_policies import p_approximation, p_approximation_balance, p_approximation_with_additions, p_approximation_with_additions_balance, p_approximation_with_additions_balance_learning, solve_linear_program\n",
    "from patient.offline_policies import offline_solution, offline_solution_balance, offline_learning_solution\n",
    "from patient.utils import get_save_path, delete_duplicate_results, restrict_resources\n",
    "from patient.learning import guess_coefficients"
   ]
  },
  {
   "cell_type": "code",
   "execution_count": 5,
   "metadata": {},
   "outputs": [],
   "source": [
    "is_jupyter = 'ipykernel' in sys.modules"
   ]
  },
  {
   "cell_type": "code",
   "execution_count": 184,
   "metadata": {},
   "outputs": [],
   "source": [
    "if is_jupyter: \n",
    "    seed        = 43\n",
    "    num_patients = 10\n",
    "    num_providers = 30\n",
    "    provider_capacity = 1\n",
    "    top_choice_prob = 0.25\n",
    "    choice_model = \"uniform_choice\"\n",
    "    out_folder = \"policy_comparison\"\n",
    "    exit_option = 0.5\n",
    "    true_top_choice_prob = 0.25\n",
    "    num_repetitions = 20\n",
    "    num_trials = 1\n",
    "    context_dim = 5\n",
    "    max_menu_size = 3\n",
    "else:\n",
    "    parser = argparse.ArgumentParser()\n",
    "    parser.add_argument('--seed', help='Random Seed', type=int, default=42)\n",
    "    parser.add_argument('--n_patients',         '-N', help='Number of patients', type=int, default=100)\n",
    "    parser.add_argument('--n_providers',        help='Number of providers', type=int, default=100)\n",
    "    parser.add_argument('--n_trials',          help='Number of trials ', type=int, default=2)\n",
    "    parser.add_argument('--top_choice_prob',          help='Probability of picking top choice', type=float, default=0.75)\n",
    "    parser.add_argument('--true_top_choice_prob',          help='Probability of picking top choice', type=float, default=0.75)\n",
    "    parser.add_argument('--context_dim',          help='Context dim for patients and providers', type=int, default=5)\n",
    "    parser.add_argument('--max_menu_size',          help='Context dim for patients and providers', type=int, default=5)\n",
    "    parser.add_argument('--num_repetitions',          help='Context dim for patients and providers', type=int, default=10)\n",
    "    parser.add_argument('--provider_capacity', help='Provider Capacity', type=int, default=5)\n",
    "    parser.add_argument('--choice_model', help='Which choice model for patients', type=str, default='uniform_choice')\n",
    "    parser.add_argument('--exit_option', help='What is the value of the exit option', type=float, default=0.5)\n",
    "    parser.add_argument('--out_folder', help='Which folder to write results to', type=str, default='policy_comparison')\n",
    "\n",
    "    args = parser.parse_args()\n",
    "\n",
    "    seed = args.seed\n",
    "    num_patients = args.n_patients\n",
    "    num_providers = args.n_providers \n",
    "    provider_capacity = args.provider_capacity\n",
    "    top_choice_prob = args.top_choice_prob\n",
    "    choice_model = args.choice_model\n",
    "    exit_option = args.exit_option\n",
    "    out_folder = args.out_folder\n",
    "    num_trials = args.n_trials \n",
    "    context_dim = args.context_dim \n",
    "    num_repetitions = args.num_repetitions\n",
    "    true_top_choice_prob = args.true_top_choice_prob\n",
    "    max_menu_size = args.max_menu_size\n",
    "\n",
    "save_name = secrets.token_hex(4)  "
   ]
  },
  {
   "cell_type": "code",
   "execution_count": 185,
   "metadata": {},
   "outputs": [],
   "source": [
    "results = {}\n",
    "results['parameters'] = {'seed'      : seed,\n",
    "        'num_patients'    : num_patients,\n",
    "        'num_providers': num_providers, \n",
    "        'provider_capacity'    : provider_capacity,\n",
    "        'top_choice_prob': top_choice_prob, \n",
    "        'choice_model': choice_model,\n",
    "        'exit_option': exit_option,\n",
    "        'num_trials': num_trials,\n",
    "        'context_dim': context_dim, \n",
    "        'true_top_choice_prob': true_top_choice_prob, \n",
    "        'num_repetitions': num_repetitions, \n",
    "        'max_menu_size': max_menu_size} "
   ]
  },
  {
   "cell_type": "markdown",
   "metadata": {},
   "source": [
    "## Baselines"
   ]
  },
  {
   "cell_type": "code",
   "execution_count": 186,
   "metadata": {},
   "outputs": [],
   "source": [
    "seed_list = [seed]\n",
    "restrict_resources()"
   ]
  },
  {
   "cell_type": "code",
   "execution_count": 187,
   "metadata": {},
   "outputs": [
    {
     "name": "stdout",
     "output_type": "stream",
     "text": [
      "Took 0.00045943260192871094 time\n",
      "Took 0.0009038448333740234 time\n",
      "Took 0.0008237361907958984 time\n",
      "Took 0.0010585784912109375 time\n",
      "Took 0.0009770393371582031 time\n",
      "Took 0.0006456375122070312 time\n",
      "Took 0.0010619163513183594 time\n",
      "Took 0.00037598609924316406 time\n",
      "Took 0.0004639625549316406 time\n",
      "Took 0.00032329559326171875 time\n",
      "Took 0.00036597251892089844 time\n",
      "Took 0.0005540847778320312 time\n",
      "Took 0.00037932395935058594 time\n",
      "Took 0.0004949569702148438 time\n",
      "Took 0.00031948089599609375 time\n",
      "Took 0.0003256797790527344 time\n",
      "Took 0.0004410743713378906 time\n",
      "Took 0.0003676414489746094 time\n",
      "Took 0.00040459632873535156 time\n",
      "Took 0.0004074573516845703 time\n"
     ]
    },
    {
     "data": {
      "text/plain": [
       "(0.28500000000000003, 0.2224625744337529, 0.293214938227915)"
      ]
     },
     "execution_count": 187,
     "metadata": {},
     "output_type": "execute_result"
    }
   ],
   "source": [
    "policy = random_policy\n",
    "name = \"random\"\n",
    "\n",
    "rewards, simulator = run_multi_seed(seed_list,policy,results['parameters'])\n",
    "\n",
    "results['{}_matches'.format(name)] = rewards['matches']\n",
    "results['{}_utilities'.format(name)] = rewards['patient_utilities']\n",
    "results['{}_workloads'.format(name)] = rewards['provider_workloads']\n",
    "\n",
    "np.mean(rewards['matches'])/(num_patients*num_trials),np.mean(rewards['patient_utilities'])/(num_patients*num_trials),np.std(rewards['provider_workloads'])"
   ]
  },
  {
   "cell_type": "code",
   "execution_count": 188,
   "metadata": {},
   "outputs": [
    {
     "name": "stdout",
     "output_type": "stream",
     "text": [
      "Took 0.00038623809814453125 time\n",
      "Took 0.000335693359375 time\n",
      "Took 0.0002925395965576172 time\n",
      "Took 0.0004062652587890625 time\n",
      "Took 0.0003654956817626953 time\n",
      "Took 0.0002048015594482422 time\n",
      "Took 0.0004050731658935547 time\n",
      "Took 0.00028705596923828125 time\n",
      "Took 0.00036406517028808594 time\n",
      "Took 0.0002491474151611328 time\n",
      "Took 0.0002930164337158203 time\n",
      "Took 0.0004038810729980469 time\n",
      "Took 0.0002951622009277344 time\n",
      "Took 0.0004057884216308594 time\n",
      "Took 0.0002529621124267578 time\n",
      "Took 0.0002493858337402344 time\n",
      "Took 0.0003705024719238281 time\n",
      "Took 0.00028777122497558594 time\n",
      "Took 0.00032901763916015625 time\n",
      "Took 0.0003292560577392578 time\n"
     ]
    },
    {
     "data": {
      "text/plain": [
       "(0.28500000000000003, 0.20673231466265785, 0.29321493822791495)"
      ]
     },
     "execution_count": 188,
     "metadata": {},
     "output_type": "execute_result"
    }
   ],
   "source": [
    "policy = greedy_policy\n",
    "name = \"greedy\"\n",
    "\n",
    "rewards, simulator = run_multi_seed(seed_list,policy,results['parameters'])\n",
    "\n",
    "results['{}_matches'.format(name)] = rewards['matches']\n",
    "results['{}_utilities'.format(name)] = rewards['patient_utilities']\n",
    "results['{}_workloads'.format(name)] = rewards['provider_workloads']\n",
    "\n",
    "np.mean(rewards['matches'])/(num_patients*num_trials),np.mean(rewards['patient_utilities'])/(num_patients*num_trials),np.std(rewards['provider_workloads'])"
   ]
  },
  {
   "cell_type": "markdown",
   "metadata": {},
   "source": [
    "## Online"
   ]
  },
  {
   "cell_type": "code",
   "execution_count": 189,
   "metadata": {},
   "outputs": [
    {
     "name": "stdout",
     "output_type": "stream",
     "text": [
      "Took 0.02940082550048828 time\n",
      "Took 0.011836051940917969 time\n",
      "Took 0.01099395751953125 time\n",
      "Took 0.010931015014648438 time\n",
      "Took 0.010799884796142578 time\n",
      "Took 0.010624170303344727 time\n",
      "Took 0.010961532592773438 time\n",
      "Took 0.010861873626708984 time\n",
      "Took 0.010889530181884766 time\n",
      "Took 0.010916948318481445 time\n",
      "Took 0.010812520980834961 time\n",
      "Took 0.010880708694458008 time\n",
      "Took 0.010921239852905273 time\n",
      "Took 0.010839700698852539 time\n",
      "Took 0.010724306106567383 time\n",
      "Took 0.010925531387329102 time\n",
      "Took 0.011120796203613281 time\n",
      "Took 0.011067867279052734 time\n",
      "Took 0.010752677917480469 time\n",
      "Took 0.010899782180786133 time\n"
     ]
    },
    {
     "data": {
      "text/plain": [
       "(0.28500000000000003, 0.25181454132312714, 0.293214938227915)"
      ]
     },
     "execution_count": 189,
     "metadata": {},
     "output_type": "execute_result"
    }
   ],
   "source": [
    "policy = p_approximation\n",
    "name = \"p_approximation\"\n",
    "\n",
    "rewards, simulator = run_multi_seed(seed_list,policy,results['parameters'])\n",
    "\n",
    "results['{}_matches'.format(name)] = rewards['matches']\n",
    "results['{}_utilities'.format(name)] = rewards['patient_utilities']\n",
    "results['{}_workloads'.format(name)] = rewards['provider_workloads']\n",
    "\n",
    "np.mean(rewards['matches'])/(num_patients*num_trials),np.mean(rewards['patient_utilities'])/(num_patients*num_trials),np.std(rewards['provider_workloads'])"
   ]
  },
  {
   "cell_type": "code",
   "execution_count": 190,
   "metadata": {},
   "outputs": [
    {
     "name": "stdout",
     "output_type": "stream",
     "text": [
      "Took 0.02114582061767578 time\n"
     ]
    },
    {
     "name": "stdout",
     "output_type": "stream",
     "text": [
      "Took 0.017541885375976562 time\n",
      "Took 0.022260189056396484 time\n",
      "Took 0.017647981643676758 time\n",
      "Took 0.017377376556396484 time\n",
      "Took 0.017734050750732422 time\n",
      "Took 0.01768326759338379 time\n",
      "Took 0.017641305923461914 time\n",
      "Took 0.017470598220825195 time\n",
      "Took 0.01785588264465332 time\n",
      "Took 0.01731109619140625 time\n",
      "Took 0.01766061782836914 time\n",
      "Took 0.01773858070373535 time\n",
      "Took 0.01761150360107422 time\n",
      "Took 0.01749396324157715 time\n",
      "Took 0.017453670501708984 time\n",
      "Took 0.017470598220825195 time\n",
      "Took 0.017267465591430664 time\n",
      "Took 0.017473220825195312 time\n",
      "Took 0.017688512802124023 time\n"
     ]
    },
    {
     "data": {
      "text/plain": [
       "(0.28500000000000003, 0.25181454132312714, 0.293214938227915)"
      ]
     },
     "execution_count": 190,
     "metadata": {},
     "output_type": "execute_result"
    }
   ],
   "source": [
    "policy = p_approximation_balance\n",
    "name = \"p_approximation_balance\"\n",
    "\n",
    "rewards, simulator = run_multi_seed(seed_list,policy,results['parameters'])\n",
    "\n",
    "results['{}_matches'.format(name)] = rewards['matches']\n",
    "results['{}_utilities'.format(name)] = rewards['patient_utilities']\n",
    "results['{}_workloads'.format(name)] = rewards['provider_workloads']\n",
    "\n",
    "np.mean(rewards['matches'])/(num_patients*num_trials),np.mean(rewards['patient_utilities'])/(num_patients*num_trials),np.std(rewards['provider_workloads'])"
   ]
  },
  {
   "cell_type": "code",
   "execution_count": 191,
   "metadata": {},
   "outputs": [
    {
     "name": "stdout",
     "output_type": "stream",
     "text": [
      "Took 0.02149486541748047 time\n"
     ]
    },
    {
     "name": "stdout",
     "output_type": "stream",
     "text": [
      "Took 0.01766204833984375 time\n",
      "Took 0.019522666931152344 time\n",
      "Took 0.017618179321289062 time\n",
      "Took 0.017702341079711914 time\n",
      "Took 0.02013111114501953 time\n",
      "Took 0.01750040054321289 time\n",
      "Took 0.017164230346679688 time\n",
      "Took 0.0171356201171875 time\n",
      "Took 0.017150402069091797 time\n",
      "Took 0.017426490783691406 time\n",
      "Took 0.017616748809814453 time\n",
      "Took 0.01759505271911621 time\n",
      "Took 0.017780065536499023 time\n",
      "Took 0.017434358596801758 time\n",
      "Took 0.017384052276611328 time\n",
      "Took 0.017458677291870117 time\n",
      "Took 0.017269611358642578 time\n",
      "Took 0.017216920852661133 time\n",
      "Took 0.017216205596923828 time\n"
     ]
    },
    {
     "data": {
      "text/plain": [
       "(0.28500000000000003, 0.2517739508097061, 0.293214938227915)"
      ]
     },
     "execution_count": 191,
     "metadata": {},
     "output_type": "execute_result"
    }
   ],
   "source": [
    "policy = p_approximation_with_additions\n",
    "name = \"p_approximation_additions\"\n",
    "\n",
    "rewards, simulator = run_multi_seed(seed_list,policy,results['parameters'])\n",
    "\n",
    "results['{}_matches'.format(name)] = rewards['matches']\n",
    "results['{}_utilities'.format(name)] = rewards['patient_utilities']\n",
    "results['{}_workloads'.format(name)] = rewards['provider_workloads']\n",
    "\n",
    "np.mean(rewards['matches'])/(num_patients*num_trials),np.mean(rewards['patient_utilities'])/(num_patients*num_trials),np.std(rewards['provider_workloads'])"
   ]
  },
  {
   "cell_type": "code",
   "execution_count": 192,
   "metadata": {},
   "outputs": [
    {
     "name": "stdout",
     "output_type": "stream",
     "text": [
      "Took 0.02791595458984375 time\n",
      "Took 0.02511143684387207 time\n",
      "Took 0.0240633487701416 time\n",
      "Took 0.025356531143188477 time\n",
      "Took 0.024120092391967773 time\n",
      "Took 0.035864830017089844 time\n",
      "Took 0.024016857147216797 time\n",
      "Took 0.023802757263183594 time\n",
      "Took 0.023792505264282227 time\n",
      "Took 0.023800134658813477 time\n",
      "Took 0.02388787269592285 time\n",
      "Took 0.024000167846679688 time\n",
      "Took 0.02411818504333496 time\n",
      "Took 0.023822784423828125 time\n",
      "Took 0.02385258674621582 time\n",
      "Took 0.023755550384521484 time\n",
      "Took 0.02470707893371582 time\n",
      "Took 0.02528095245361328 time\n",
      "Took 0.025487422943115234 time\n",
      "Took 0.02400994300842285 time\n"
     ]
    },
    {
     "data": {
      "text/plain": [
       "(0.28500000000000003, 0.2517739508097061, 0.293214938227915)"
      ]
     },
     "execution_count": 192,
     "metadata": {},
     "output_type": "execute_result"
    }
   ],
   "source": [
    "policy = p_approximation_with_additions_balance\n",
    "name = \"p_approximation_additions_balance\"\n",
    "\n",
    "rewards, simulator = run_multi_seed(seed_list,policy,results['parameters'])\n",
    "\n",
    "results['{}_matches'.format(name)] = rewards['matches']\n",
    "results['{}_utilities'.format(name)] = rewards['patient_utilities']\n",
    "results['{}_workloads'.format(name)] = rewards['provider_workloads']\n",
    "\n",
    "np.mean(rewards['matches'])/(num_patients*num_trials),np.mean(rewards['patient_utilities'])/(num_patients*num_trials),np.std(rewards['provider_workloads'])"
   ]
  },
  {
   "cell_type": "code",
   "execution_count": 193,
   "metadata": {},
   "outputs": [
    {
     "name": "stdout",
     "output_type": "stream",
     "text": [
      "Took 0.02613687515258789 time\n",
      "Took 0.02606368064880371 time\n",
      "Took 0.025888442993164062 time\n",
      "Took 0.026528358459472656 time\n",
      "Took 0.026907682418823242 time\n",
      "Took 0.030434608459472656 time\n",
      "Took 0.025998592376708984 time\n",
      "Took 0.026938915252685547 time\n",
      "Took 0.02877521514892578 time\n",
      "Took 0.0255887508392334 time\n",
      "Took 0.025862932205200195 time\n",
      "Took 0.030858516693115234 time\n",
      "Took 0.027021169662475586 time\n",
      "Took 0.025871753692626953 time\n",
      "Took 0.025850296020507812 time\n",
      "Took 0.025569915771484375 time\n",
      "Took 0.02601337432861328 time\n",
      "Took 0.025961637496948242 time\n",
      "Took 0.02568650245666504 time\n",
      "Took 0.025908470153808594 time\n"
     ]
    },
    {
     "data": {
      "text/plain": [
       "(0.28500000000000003, 0.24388131220707293, 0.293214938227915)"
      ]
     },
     "execution_count": 193,
     "metadata": {},
     "output_type": "execute_result"
    }
   ],
   "source": [
    "policy = p_approximation_with_additions_balance_learning\n",
    "name = \"p_approximation_additions_balance_learning\"\n",
    "\n",
    "rewards, simulator = run_multi_seed(seed_list,policy,results['parameters'])\n",
    "\n",
    "results['{}_matches'.format(name)] = rewards['matches']\n",
    "results['{}_utilities'.format(name)] = rewards['patient_utilities']\n",
    "results['{}_workloads'.format(name)] = rewards['provider_workloads']\n",
    "\n",
    "np.mean(rewards['matches'])/(num_patients*num_trials),np.mean(rewards['patient_utilities'])/(num_patients*num_trials),np.std(rewards['provider_workloads'])"
   ]
  },
  {
   "cell_type": "markdown",
   "metadata": {},
   "source": [
    "## Offline"
   ]
  },
  {
   "cell_type": "code",
   "execution_count": 194,
   "metadata": {},
   "outputs": [
    {
     "name": "stdout",
     "output_type": "stream",
     "text": [
      "Took 0.011509418487548828 time\n",
      "Took 0.011120319366455078 time\n",
      "Took 0.010941743850708008 time\n",
      "Took 0.011339187622070312 time\n",
      "Took 0.011368513107299805 time\n",
      "Took 0.01129770278930664 time\n",
      "Took 0.011142253875732422 time\n",
      "Took 0.010955333709716797 time\n",
      "Took 0.01154184341430664 time\n",
      "Took 0.011076688766479492 time\n",
      "Took 0.011054754257202148 time\n",
      "Took 0.01105046272277832 time\n",
      "Took 0.010973930358886719 time\n",
      "Took 0.011207342147827148 time\n",
      "Took 0.011239767074584961 time\n",
      "Took 0.011190414428710938 time\n",
      "Took 0.011194467544555664 time\n",
      "Took 0.011206865310668945 time\n",
      "Took 0.011359930038452148 time\n",
      "Took 0.011170387268066406 time\n"
     ]
    },
    {
     "data": {
      "text/plain": [
       "(0.28500000000000003, 0.25181454132312714, 0.293214938227915)"
      ]
     },
     "execution_count": 194,
     "metadata": {},
     "output_type": "execute_result"
    }
   ],
   "source": [
    "policy = offline_solution\n",
    "name = \"offline_solution\"\n",
    "\n",
    "rewards, simulator = run_multi_seed(seed_list,policy,results['parameters'])\n",
    "\n",
    "results['{}_matches'.format(name)] = rewards['matches']\n",
    "results['{}_utilities'.format(name)] = rewards['patient_utilities']\n",
    "results['{}_workloads'.format(name)] = rewards['provider_workloads']\n",
    "\n",
    "np.mean(rewards['matches'])/(num_patients*num_trials),np.mean(rewards['patient_utilities'])/(num_patients*num_trials),np.std(rewards['provider_workloads'])"
   ]
  },
  {
   "cell_type": "code",
   "execution_count": 195,
   "metadata": {},
   "outputs": [
    {
     "name": "stdout",
     "output_type": "stream",
     "text": [
      "Took 0.013624191284179688 time\n",
      "Took 0.012884140014648438 time\n",
      "Took 0.013100624084472656 time\n"
     ]
    },
    {
     "name": "stdout",
     "output_type": "stream",
     "text": [
      "Took 0.014070987701416016 time\n",
      "Took 0.013189554214477539 time\n",
      "Took 0.012821197509765625 time\n",
      "Took 0.013026237487792969 time\n",
      "Took 0.012816190719604492 time\n",
      "Took 0.012999296188354492 time\n",
      "Took 0.012992143630981445 time\n",
      "Took 0.012775897979736328 time\n",
      "Took 0.013210535049438477 time\n",
      "Took 0.013265371322631836 time\n",
      "Took 0.012979745864868164 time\n",
      "Took 0.012797117233276367 time\n",
      "Took 0.012786149978637695 time\n",
      "Took 0.012835264205932617 time\n",
      "Took 0.012882232666015625 time\n",
      "Took 0.012775897979736328 time\n",
      "Took 0.012722492218017578 time\n"
     ]
    },
    {
     "data": {
      "text/plain": [
       "(0.28500000000000003, 0.2510279995963539, 0.293214938227915)"
      ]
     },
     "execution_count": 195,
     "metadata": {},
     "output_type": "execute_result"
    }
   ],
   "source": [
    "policy = offline_learning_solution\n",
    "name = \"offline_learning_solution\"\n",
    "\n",
    "rewards, simulator = run_multi_seed(seed_list,policy,results['parameters'])\n",
    "\n",
    "results['{}_matches'.format(name)] = rewards['matches']\n",
    "results['{}_utilities'.format(name)] = rewards['patient_utilities']\n",
    "results['{}_workloads'.format(name)] = rewards['provider_workloads']\n",
    "\n",
    "np.mean(rewards['matches'])/(num_patients*num_trials),np.mean(rewards['patient_utilities'])/(num_patients*num_trials),np.std(rewards['provider_workloads'])"
   ]
  },
  {
   "cell_type": "code",
   "execution_count": 196,
   "metadata": {},
   "outputs": [
    {
     "name": "stdout",
     "output_type": "stream",
     "text": [
      "Took 0.01783013343811035 time\n"
     ]
    },
    {
     "name": "stdout",
     "output_type": "stream",
     "text": [
      "Took 0.017917156219482422 time\n",
      "Took 0.018023252487182617 time\n",
      "Took 0.0179445743560791 time\n",
      "Took 0.017887353897094727 time\n",
      "Took 0.017737388610839844 time\n",
      "Took 0.01779460906982422 time\n",
      "Took 0.01763606071472168 time\n",
      "Took 0.017967700958251953 time\n",
      "Took 0.01766037940979004 time\n",
      "Took 0.017620086669921875 time\n",
      "Took 0.01778554916381836 time\n",
      "Took 0.0177152156829834 time\n",
      "Took 0.01778388023376465 time\n",
      "Took 0.017684459686279297 time\n",
      "Took 0.0175321102142334 time\n",
      "Took 0.01774764060974121 time\n",
      "Took 0.017699003219604492 time\n",
      "Took 0.017595767974853516 time\n",
      "Took 0.017682552337646484 time\n"
     ]
    },
    {
     "data": {
      "text/plain": [
       "(0.28500000000000003, 0.25181454132312714, 0.293214938227915)"
      ]
     },
     "execution_count": 196,
     "metadata": {},
     "output_type": "execute_result"
    }
   ],
   "source": [
    "policy = offline_solution_balance\n",
    "name = \"offline_solution_balance\"\n",
    "\n",
    "rewards, simulator = run_multi_seed(seed_list,policy,results['parameters'])\n",
    "\n",
    "results['{}_matches'.format(name)] = rewards['matches']\n",
    "results['{}_utilities'.format(name)] = rewards['patient_utilities']\n",
    "results['{}_workloads'.format(name)] = rewards['provider_workloads']\n",
    "\n",
    "np.mean(rewards['matches'])/(num_patients*num_trials),np.mean(rewards['patient_utilities'])/(num_patients*num_trials),np.std(rewards['provider_workloads'])"
   ]
  },
  {
   "cell_type": "markdown",
   "metadata": {},
   "source": [
    "## Save Data"
   ]
  },
  {
   "cell_type": "code",
   "execution_count": 91,
   "metadata": {},
   "outputs": [],
   "source": [
    "save_path = get_save_path(out_folder,save_name)"
   ]
  },
  {
   "cell_type": "code",
   "execution_count": 92,
   "metadata": {},
   "outputs": [],
   "source": [
    "delete_duplicate_results(out_folder,\"\",results)"
   ]
  },
  {
   "cell_type": "code",
   "execution_count": 93,
   "metadata": {},
   "outputs": [],
   "source": [
    "json.dump(results,open('../../results/'+save_path,'w'))"
   ]
  },
  {
   "cell_type": "code",
   "execution_count": null,
   "metadata": {},
   "outputs": [],
   "source": []
  }
 ],
 "metadata": {
  "kernelspec": {
   "display_name": "patient",
   "language": "python",
   "name": "python3"
  },
  "language_info": {
   "codemirror_mode": {
    "name": "ipython",
    "version": 3
   },
   "file_extension": ".py",
   "mimetype": "text/x-python",
   "name": "python",
   "nbconvert_exporter": "python",
   "pygments_lexer": "ipython3",
   "version": "3.7.16"
  }
 },
 "nbformat": 4,
 "nbformat_minor": 2
}
