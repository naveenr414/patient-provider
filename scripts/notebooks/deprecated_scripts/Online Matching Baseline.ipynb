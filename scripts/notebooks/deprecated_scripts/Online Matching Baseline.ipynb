{
 "cells": [
  {
   "cell_type": "code",
   "execution_count": 2,
   "metadata": {},
   "outputs": [],
   "source": [
    "%load_ext autoreload\n",
    "%autoreload 2"
   ]
  },
  {
   "cell_type": "code",
   "execution_count": 3,
   "metadata": {},
   "outputs": [],
   "source": [
    "import sys\n",
    "sys.path.append('/usr0/home/naveenr/projects/patient_provider')"
   ]
  },
  {
   "cell_type": "code",
   "execution_count": 4,
   "metadata": {},
   "outputs": [],
   "source": [
    "import numpy as np\n",
    "import random \n",
    "import matplotlib.pyplot as plt\n",
    "import argparse\n",
    "import secrets\n",
    "import json"
   ]
  },
  {
   "cell_type": "code",
   "execution_count": 5,
   "metadata": {},
   "outputs": [],
   "source": [
    "from patient.simulator import Simulator\n",
    "from patient.policy import *\n",
    "from patient.utils import get_save_path, delete_duplicate_results"
   ]
  },
  {
   "cell_type": "code",
   "execution_count": 6,
   "metadata": {},
   "outputs": [],
   "source": [
    "is_jupyter = 'ipykernel' in sys.modules"
   ]
  },
  {
   "cell_type": "code",
   "execution_count": 7,
   "metadata": {},
   "outputs": [],
   "source": [
    "if is_jupyter: \n",
    "    seed_list        = list(range(42,52))\n",
    "    num_patients = 100\n",
    "    num_providers = 20\n",
    "    provider_capacity = 5\n",
    "    out_folder = \"online_baseline\"\n",
    "else:\n",
    "    parser = argparse.ArgumentParser()\n",
    "    parser.add_argument('--n_patients',         '-N', help='Number of patients', type=int, default=100)\n",
    "    parser.add_argument('--n_providers',         '-V', help='Number of providers', type=int, default=20)\n",
    "    parser.add_argument('--provider_capacity',    '-P', help='Provider Capacity', type=int, default=5)\n",
    "    parser.add_argument('--out_folder', help='Which folder to write results to', type=str, default='online_baseline')\n",
    "\n",
    "    args = parser.parse_args()\n",
    "\n",
    "    num_patients = args.n_patients\n",
    "    num_providers = args.n_providers \n",
    "    provider_capacity = args.provider_capacity\n",
    "    out_folder = args.out_folder\n",
    "\n",
    "save_name = secrets.token_hex(4)  "
   ]
  },
  {
   "cell_type": "code",
   "execution_count": 8,
   "metadata": {},
   "outputs": [],
   "source": [
    "s = Simulator(num_patients,num_providers,provider_capacity)"
   ]
  },
  {
   "cell_type": "code",
   "execution_count": 9,
   "metadata": {},
   "outputs": [],
   "source": [
    "seed_list = list(range(42,52))"
   ]
  },
  {
   "cell_type": "code",
   "execution_count": 10,
   "metadata": {},
   "outputs": [],
   "source": [
    "results = {}\n",
    "results['parameters'] = {'seed_list'      : seed_list,\n",
    "        'num_patients'    : num_patients,\n",
    "        'num_providers': num_providers, \n",
    "        'provider_capacity'    : provider_capacity,} "
   ]
  },
  {
   "cell_type": "markdown",
   "metadata": {},
   "source": [
    "## No Re-Entry"
   ]
  },
  {
   "cell_type": "code",
   "execution_count": 12,
   "metadata": {},
   "outputs": [
    {
     "data": {
      "text/plain": [
       "(88.6, 0.6572205510468216, 0.62)"
      ]
     },
     "execution_count": 12,
     "metadata": {},
     "output_type": "execute_result"
    }
   ],
   "source": [
    "policy = random_policy\n",
    "name = \"random\"\n",
    "\n",
    "rewards = s.simulate_no_renetry(policy,seed_list=seed_list)\n",
    "results['{}_matches'.format(name)] = rewards['matches']\n",
    "results['{}_utilities'.format(name)] = rewards['patient_utilities']\n",
    "results['{}_gaps'.format(name)] = rewards['provider_gaps']\n",
    "\n",
    "np.mean(rewards['matches']), np.mean(rewards['patient_utilities']), np.mean(rewards['provider_gaps'])"
   ]
  },
  {
   "cell_type": "code",
   "execution_count": 14,
   "metadata": {},
   "outputs": [
    {
     "name": "stdout",
     "output_type": "stream",
     "text": [
      "Restricted license - for non-production use only - expires 2024-10-28\n"
     ]
    },
    {
     "data": {
      "text/plain": [
       "(93.7, 0.6614654205118488, 0.5599999999999999)"
      ]
     },
     "execution_count": 14,
     "metadata": {},
     "output_type": "execute_result"
    }
   ],
   "source": [
    "policy = max_match_prob\n",
    "name = \"match_prob\"\n",
    "\n",
    "rewards = s.simulate_no_renetry(policy,seed_list=seed_list)\n",
    "results['{}_matches'.format(name)] = rewards['matches']\n",
    "results['{}_utilities'.format(name)] = rewards['patient_utilities']\n",
    "results['{}_gaps'.format(name)] = rewards['provider_gaps']\n",
    "\n",
    "np.mean(rewards['matches']), np.mean(rewards['patient_utilities']), np.mean(rewards['provider_gaps'])"
   ]
  },
  {
   "cell_type": "code",
   "execution_count": 15,
   "metadata": {},
   "outputs": [
    {
     "data": {
      "text/plain": [
       "(87.9, 0.8320686003295454, 0.38)"
      ]
     },
     "execution_count": 15,
     "metadata": {},
     "output_type": "execute_result"
    }
   ],
   "source": [
    "policy = max_patient_utility\n",
    "name = \"utility\"\n",
    "\n",
    "rewards = s.simulate_no_renetry(policy,seed_list=seed_list)\n",
    "results['{}_matches'.format(name)] = rewards['matches']\n",
    "results['{}_utilities'.format(name)] = rewards['patient_utilities']\n",
    "results['{}_gaps'.format(name)] = rewards['provider_gaps']\n",
    "\n",
    "np.mean(rewards['matches']), np.mean(rewards['patient_utilities']), np.mean(rewards['provider_gaps'])"
   ]
  },
  {
   "cell_type": "markdown",
   "metadata": {},
   "source": [
    "## Re-Entry"
   ]
  },
  {
   "cell_type": "code",
   "execution_count": 16,
   "metadata": {},
   "outputs": [
    {
     "data": {
      "text/plain": [
       "(87.5, 0.129, 0.6297917447765877, 0.6599999999999999)"
      ]
     },
     "execution_count": 16,
     "metadata": {},
     "output_type": "execute_result"
    }
   ],
   "source": [
    "policy = random_policy\n",
    "name = \"random_reentry\"\n",
    "\n",
    "rewards = s.simulate_with_renetry(policy,seed_list=seed_list)\n",
    "results['{}_matches'.format(name)] = rewards['matches']\n",
    "results['{}_utilities'.format(name)] = rewards['patient_utilities']\n",
    "results['{}_gaps'.format(name)] = rewards['provider_gaps']\n",
    "results['{}_waittimes'.format(name)] = rewards['waittimes']\n",
    "\n",
    "np.mean(rewards['matches']), np.mean(rewards['waittimes']), np.mean(rewards['patient_utilities']), np.mean(rewards['provider_gaps'])"
   ]
  },
  {
   "cell_type": "code",
   "execution_count": 17,
   "metadata": {},
   "outputs": [
    {
     "data": {
      "text/plain": [
       "(92.4, 0.065, 0.626983908582326, 0.6399999999999999)"
      ]
     },
     "execution_count": 17,
     "metadata": {},
     "output_type": "execute_result"
    }
   ],
   "source": [
    "policy = max_match_prob\n",
    "name = \"match_prob_reentry\"\n",
    "\n",
    "rewards = s.simulate_with_renetry(policy,seed_list=seed_list)\n",
    "results['{}_matches'.format(name)] = rewards['matches']\n",
    "results['{}_utilities'.format(name)] = rewards['patient_utilities']\n",
    "results['{}_gaps'.format(name)] = rewards['provider_gaps']\n",
    "results['{}_waittimes'.format(name)] = rewards['waittimes']\n",
    "\n",
    "np.mean(rewards['matches']), np.mean(rewards['waittimes']), np.mean(rewards['patient_utilities']), np.mean(rewards['provider_gaps'])"
   ]
  },
  {
   "cell_type": "code",
   "execution_count": 18,
   "metadata": {},
   "outputs": [
    {
     "data": {
      "text/plain": [
       "(92.4, 0.065, 0.626983908582326, 0.6399999999999999)"
      ]
     },
     "execution_count": 18,
     "metadata": {},
     "output_type": "execute_result"
    }
   ],
   "source": [
    "policy = max_match_prob\n",
    "name = \"utility_reentry\"\n",
    "\n",
    "rewards = s.simulate_with_renetry(policy,seed_list=seed_list)\n",
    "results['{}_matches'.format(name)] = rewards['matches']\n",
    "results['{}_utilities'.format(name)] = rewards['patient_utilities']\n",
    "results['{}_gaps'.format(name)] = rewards['provider_gaps']\n",
    "results['{}_waittimes'.format(name)] = rewards['waittimes']\n",
    "\n",
    "np.mean(rewards['matches']), np.mean(rewards['waittimes']), np.mean(rewards['patient_utilities']), np.mean(rewards['provider_gaps'])"
   ]
  },
  {
   "cell_type": "code",
   "execution_count": 19,
   "metadata": {},
   "outputs": [],
   "source": [
    "name = \"alpha_lambda_reentry\"\n",
    "\n",
    "results['{}_matches'.format(name)] = []\n",
    "results['{}_utilities'.format(name)] = []\n",
    "results['{}_gaps'.format(name)] = []\n",
    "results['{}_waittimes'.format(name)] = []\n",
    "\n",
    "\n",
    "for lamb in [0,0.25,0.5,1,5,10]:\n",
    "    for alpha in [0,0.25,0.5,1,5,10]:\n",
    "        policy = max_patient_utility_with_waittime_alpha_lambda(alpha,lamb)\n",
    "\n",
    "        rewards = s.simulate_with_renetry(policy,seed_list=seed_list)\n",
    "        temp_dict = {}\n",
    "        results['{}_matches'.format(name)].append({'alpha': alpha,'lamb': lamb,'matches': rewards['matches']}) \n",
    "        results['{}_utilities'.format(name)].append({'alpha': alpha,'lamb': lamb,'utilities': rewards['patient_utilities']}) \n",
    "        results['{}_gaps'.format(name)].append({'alpha': alpha,'lamb': lamb,'gaps': rewards['provider_gaps']}) \n",
    "        results['{}_waittimes'.format(name)].append({'alpha': alpha,'lamb': lamb,'waittimes': rewards['waittimes']}) "
   ]
  },
  {
   "cell_type": "markdown",
   "metadata": {},
   "source": [
    "## Save Data"
   ]
  },
  {
   "cell_type": "code",
   "execution_count": 28,
   "metadata": {},
   "outputs": [],
   "source": [
    "save_path = get_save_path(out_folder,save_name)"
   ]
  },
  {
   "cell_type": "code",
   "execution_count": 29,
   "metadata": {},
   "outputs": [],
   "source": [
    "delete_duplicate_results(out_folder,\"\",results)"
   ]
  },
  {
   "cell_type": "code",
   "execution_count": 30,
   "metadata": {},
   "outputs": [],
   "source": [
    "json.dump(results,open('../../results/'+save_path,'w'))"
   ]
  }
 ],
 "metadata": {
  "kernelspec": {
   "display_name": "patient",
   "language": "python",
   "name": "python3"
  },
  "language_info": {
   "codemirror_mode": {
    "name": "ipython",
    "version": 3
   },
   "file_extension": ".py",
   "mimetype": "text/x-python",
   "name": "python",
   "nbconvert_exporter": "python",
   "pygments_lexer": "ipython3",
   "version": "3.7.16"
  }
 },
 "nbformat": 4,
 "nbformat_minor": 2
}
