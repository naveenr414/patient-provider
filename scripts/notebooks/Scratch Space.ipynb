{
 "cells": [
  {
   "cell_type": "code",
   "execution_count": 1,
   "metadata": {},
   "outputs": [],
   "source": [
    "%load_ext autoreload\n",
    "%autoreload 2"
   ]
  },
  {
   "cell_type": "code",
   "execution_count": 2,
   "metadata": {},
   "outputs": [],
   "source": [
    "import sys\n",
    "sys.path.append('/usr0/home/naveenr/projects/patient_provider')"
   ]
  },
  {
   "cell_type": "code",
   "execution_count": 32,
   "metadata": {},
   "outputs": [],
   "source": [
    "import numpy as np\n",
    "import random \n",
    "import matplotlib.pyplot as plt\n",
    "import gurobipy as gp\n",
    "from gurobipy import GRB\n"
   ]
  },
  {
   "cell_type": "code",
   "execution_count": 4,
   "metadata": {},
   "outputs": [],
   "source": [
    "from patient.simulator import Simulator\n",
    "from patient.policy import *"
   ]
  },
  {
   "cell_type": "markdown",
   "metadata": {},
   "source": [
    "## Assortment Linear Program"
   ]
  },
  {
   "cell_type": "code",
   "execution_count": 83,
   "metadata": {},
   "outputs": [],
   "source": [
    "utilities = [random.random() for i in range(10)]\n",
    "exit_option = random.random() "
   ]
  },
  {
   "cell_type": "code",
   "execution_count": 84,
   "metadata": {},
   "outputs": [
    {
     "data": {
      "text/plain": [
       "([0, 1, 1, 0, 1, 1, 1, 0, 0, 0], 0.6023784449512034)"
      ]
     },
     "execution_count": 84,
     "metadata": {},
     "output_type": "execute_result"
    }
   ],
   "source": [
    "best_assortment = []\n",
    "best_score = 0\n",
    "for assortment_combo in range(2**len(utilities)):\n",
    "    assortment = [int(j) for j in bin(assortment_combo)[2:].zfill(len(utilities))]\n",
    "    score = 0\n",
    "\n",
    "    denom = np.sum([utilities[i]*assortment[i] for i in range(len(utilities))])+ exit_option\n",
    "    for i in range(len(utilities)):\n",
    "        prob = utilities[i]*assortment[i]/denom \n",
    "        score += prob*utilities[i] \n",
    "    if score > best_score:\n",
    "        best_score = score \n",
    "        best_assortment = assortment\n",
    "best_assortment, best_score"
   ]
  },
  {
   "cell_type": "code",
   "execution_count": 85,
   "metadata": {},
   "outputs": [
    {
     "data": {
      "text/plain": [
       "[0, 1, 1, 0, 1, 1, 1, 0, 0, 0]"
      ]
     },
     "execution_count": 85,
     "metadata": {},
     "output_type": "execute_result"
    }
   ],
   "source": [
    "N = len(utilities)\n",
    "z_star = best_score \n",
    "u_coeffs = utilities \n",
    "model = gp.Model(\"ILP\")\n",
    "y = model.addVars(N, vtype=GRB.BINARY, name=\"y\")\n",
    "objective_expr = gp.LinExpr()\n",
    "for j in range(N):\n",
    "    objective_expr += (u_coeffs[j] - z_star) * u_coeffs[j] * y[j]/exit_option\n",
    "model.setObjective(objective_expr, GRB.MAXIMIZE)\n",
    "model.setParam('OutputFlag', 0)\n",
    "for j in range(N):\n",
    "    model.addConstr(y[j] >= 0)\n",
    "    model.addConstr(y[j] <= 1)\n",
    "model.optimize()\n",
    "y = [int(y[j].x) for j in range(N)]\n",
    "y"
   ]
  },
  {
   "cell_type": "code",
   "execution_count": 86,
   "metadata": {},
   "outputs": [
    {
     "data": {
      "text/plain": [
       "[0, 1, 1, 0, 1, 1, 1, 0, 0, 0]"
      ]
     },
     "execution_count": 86,
     "metadata": {},
     "output_type": "execute_result"
    }
   ],
   "source": [
    "model = gp.Model(\"LP\")\n",
    "model.setParam('OutputFlag', 0)\n",
    "w = model.addVars(N+1, name=\"w\")\n",
    "objective_expr = gp.LinExpr()\n",
    "for j in range(1, N+1):\n",
    "    objective_expr += u_coeffs[j-1] * w[j]\n",
    "model.setObjective(objective_expr, GRB.MAXIMIZE)\n",
    "\n",
    "sum_expr = gp.LinExpr()\n",
    "for j in range(1, N+1):\n",
    "    sum_expr += w[j]\n",
    "model.addConstr(sum_expr + w[0] == 1)\n",
    "\n",
    "for j in range(1, N+1):\n",
    "    if u_coeffs[j-1]>0:\n",
    "        model.addConstr(w[j] / u_coeffs[j-1] <= w[0]/exit_option)\n",
    "    else:\n",
    "        model.addConstr(w[j]  <= 0)\n",
    "model.optimize()\n",
    "\n",
    "w_vals = [round((w[j].x*exit_option)/(u_coeffs[j-1]*w[0].x)) for j in range(1,N+1)]\n",
    "w_vals"
   ]
  },
  {
   "cell_type": "markdown",
   "metadata": {},
   "source": [
    "## Patient-Provider Matches"
   ]
  },
  {
   "cell_type": "code",
   "execution_count": 5,
   "metadata": {},
   "outputs": [],
   "source": [
    "num_patients = 20\n",
    "num_providers = 10"
   ]
  },
  {
   "cell_type": "code",
   "execution_count": 6,
   "metadata": {},
   "outputs": [],
   "source": [
    "s = Simulator(num_patients,num_providers)"
   ]
  },
  {
   "cell_type": "code",
   "execution_count": 7,
   "metadata": {},
   "outputs": [],
   "source": [
    "seed_list = list(range(42,52))"
   ]
  },
  {
   "cell_type": "code",
   "execution_count": 8,
   "metadata": {},
   "outputs": [
    {
     "data": {
      "text/plain": [
       "(13.2, 1.4696938456699067)"
      ]
     },
     "execution_count": 8,
     "metadata": {},
     "output_type": "execute_result"
    }
   ],
   "source": [
    "results = s.simulate_no_renetry(random_policy,seed_list=seed_list)\n",
    "np.mean(results), np.std(results)"
   ]
  },
  {
   "cell_type": "code",
   "execution_count": 9,
   "metadata": {},
   "outputs": [
    {
     "data": {
      "text/plain": [
       "(15.7, 1.004987562112089)"
      ]
     },
     "execution_count": 9,
     "metadata": {},
     "output_type": "execute_result"
    }
   ],
   "source": [
    "results = s.simulate_no_renetry(greedy_policy,seed_list=seed_list)\n",
    "np.mean(results), np.std(results)"
   ]
  },
  {
   "cell_type": "code",
   "execution_count": 160,
   "metadata": {},
   "outputs": [
    {
     "data": {
      "text/plain": [
       "(16.3, 0.9)"
      ]
     },
     "execution_count": 160,
     "metadata": {},
     "output_type": "execute_result"
    }
   ],
   "source": [
    "results = s.simulate_no_renetry(brute_force_discount,seed_list=seed_list)\n",
    "np.mean(results), np.std(results)"
   ]
  },
  {
   "cell_type": "code",
   "execution_count": 161,
   "metadata": {},
   "outputs": [
    {
     "data": {
      "text/plain": [
       "(16.4, 0.9165151389911679, 0.17, 0.44844174649557333)"
      ]
     },
     "execution_count": 161,
     "metadata": {},
     "output_type": "execute_result"
    }
   ],
   "source": [
    "s = Simulator(num_patients,num_providers)\n",
    "results = s.simulate_with_renetry(random_policy,seed_list=seed_list)\n",
    "np.mean(results['matches']), np.std(results['matches']), np.mean(results['waittimes']), np.std(results['waittimes'])"
   ]
  },
  {
   "cell_type": "code",
   "execution_count": 162,
   "metadata": {},
   "outputs": [
    {
     "data": {
      "text/plain": [
       "(16.7, 1.5524174696260022, 0.1, 0.33166247903553997)"
      ]
     },
     "execution_count": 162,
     "metadata": {},
     "output_type": "execute_result"
    }
   ],
   "source": [
    "s = Simulator(num_patients,num_providers)\n",
    "results = s.simulate_with_renetry(greedy_policy,seed_list=seed_list)\n",
    "np.mean(results['matches']), np.std(results['matches']), np.mean(results['waittimes']), np.std(results['waittimes'])"
   ]
  },
  {
   "cell_type": "code",
   "execution_count": 163,
   "metadata": {},
   "outputs": [
    {
     "data": {
      "text/plain": [
       "(17.0, 1.5491933384829668, 0.105, 0.33760183648789593)"
      ]
     },
     "execution_count": 163,
     "metadata": {},
     "output_type": "execute_result"
    }
   ],
   "source": [
    "results = s.simulate_with_renetry(brute_force_discount,seed_list=seed_list)\n",
    "np.mean(results['matches']), np.std(results['matches']), np.mean(results['waittimes']), np.std(results['waittimes'])"
   ]
  },
  {
   "cell_type": "code",
   "execution_count": 164,
   "metadata": {},
   "outputs": [
    {
     "data": {
      "text/plain": [
       "(17.3, 1.5524174696260025, 0.09, 0.31921779399024736)"
      ]
     },
     "execution_count": 164,
     "metadata": {},
     "output_type": "execute_result"
    }
   ],
   "source": [
    "results = s.simulate_with_renetry(brute_force_discount_lamb,seed_list=seed_list)\n",
    "np.mean(results['matches']), np.std(results['matches']), np.mean(results['waittimes']), np.std(results['waittimes'])"
   ]
  },
  {
   "cell_type": "code",
   "execution_count": null,
   "metadata": {},
   "outputs": [],
   "source": []
  }
 ],
 "metadata": {
  "kernelspec": {
   "display_name": "patient",
   "language": "python",
   "name": "python3"
  },
  "language_info": {
   "codemirror_mode": {
    "name": "ipython",
    "version": 3
   },
   "file_extension": ".py",
   "mimetype": "text/x-python",
   "name": "python",
   "nbconvert_exporter": "python",
   "pygments_lexer": "ipython3",
   "version": "3.7.16"
  }
 },
 "nbformat": 4,
 "nbformat_minor": 2
}
